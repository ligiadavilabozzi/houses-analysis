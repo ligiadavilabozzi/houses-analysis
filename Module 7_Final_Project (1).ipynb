{
 "cells": [
  {
   "cell_type": "markdown",
   "metadata": {},
   "source": [
    "# Final Project - Module 07"
   ]
  },
  {
   "cell_type": "markdown",
   "metadata": {},
   "source": [
    " Use data analysis techniques and linear regression to create a model to predict housing prices."
   ]
  },
  {
   "cell_type": "markdown",
   "metadata": {},
   "source": [
    "# Model to Predict Housing Prices \n",
    "**Lígia D'Ávila Bozzi**"
   ]
  },
  {
   "cell_type": "markdown",
   "metadata": {},
   "source": [
    "# Index\n",
    "\n",
    "- [Abstract](#Abstract)\n",
    "- [1. Introduction](#1.-Introduction)\n",
    "- [2. The Data](#2.-The-Data)\n",
    "    - [2.1 Import the Data](#2.1-Import-the-Data)\n",
    "    - [2.2 Data Exploration](#2.2-Data-Exploration)\n",
    "    - [2.3 Data Preparation](#2.3-Data-Preparation)\n",
    "    - [2.4 Correlation](#2.4-Correlation)\n",
    "- [3. Project Description](#3.-Project-Description)\n",
    "    - [3.1 Linear Regression](#3.1-Linear-Regression)\n",
    "    - [3.2 Analysis](#3.2-Analysis)\n",
    "    - [3.3 Results](#3.3-Results)\n",
    "    - [3.4 Verify Your Model Against Test Data](#3.4-Verify-Your-Model-Against-Test-Data)\n",
    "- [Conclusion](#Conclusion)\n",
    "- [References](#References)"
   ]
  },
  {
   "cell_type": "markdown",
   "metadata": {},
   "source": [
    "[Back to top](#Index)\n",
    "\n",
    "\n",
    "##  Abstract\n",
    "This project uses data analysis and linear regression techniques to create a real estate price prediction model.\n",
    "Therefore, there target variable is the 'SalePrice' and the other selected variables are predictors.\n",
    "\n",
    "For this project it is extremely important to understand the correlation between the predictor variables and the target variable (SalePrice). So, the correlation heatmap was plotted for all predictor variables, but we chose only variables with a correlation of approximately 50%. Because we believe that it will significantly influence the calculation of the r-squared. With that the data were prepared to then build our model. \n",
    "\n",
    "The result of the model built for the trained data (houseSmallData.csv) was an R-squared of 88% and for the test data (jtest.csv) the model had an r-squared of 75%."
   ]
  },
  {
   "cell_type": "markdown",
   "metadata": {},
   "source": [
    "[Back to top](#Index)\n",
    "\n",
    "\n",
    "## 1. Introduction\n",
    "\n",
    "This project use data analysis techniques and linear regression to create a model to predict housing prices.\n",
    "The target variable (Y) is: Salce Price. \n",
    "\n",
    "**STEPS TO CONSTRUCT REGRESSION MODEL**\n",
    "- IMPORTS AND READ\n",
    "    - Import the data (houseSmallData.csv) and the libraries\n",
    "    - Read the csv and verify shape\n",
    "- DESCRIBE SALEPRICE\n",
    "- DATA EXPLORATION\n",
    "    - plot histogram (SalePrice); \n",
    "    - calculate skew, \n",
    "    - calculate log skew, \n",
    "    - plot histogram log SalePrice\n",
    "- PLOT CORRELATION BETWEEN SALE PRICE AND PREDICTORS VARIABLES\n",
    "- DATA PREPARATION\n",
    "    - Verify if columns has nulls and NaN value\n",
    "    - Repair all nulls\n",
    "- CORRELATION\n",
    "    - Select TOP 20 predictors variables. \n",
    "    - Plot correlation graphs with SalePrice\n",
    "- LINEAR REGRESSION\n",
    "    - Construct linear regression model  and fit model. \n",
    "    - Train the model\n",
    "    - Calculate R-squared. \n",
    "    - Plot Scatter Predictors x Y. \n",
    "- ANALYSIS\n",
    "    - Analysis the construct model with other models\n",
    "- TEST MODEL\n",
    "    - Import the data test (jtest.csv)\n",
    "    - Verify the constructed model against test data\n",
    "\n",
    "The first step was to import the data: 'houseSmallData.csv' and the libraries needed to analyze the data and create the models. Then the data of 'SalePrice' was described and executed carefully to understand its values and then build the regression model. \n",
    "\n",
    "For this project it is extremely important to understand the correlation between the predictor variables and the target variable (SalePrice). We calculated correlation numeric predictors variables and then we select those that we consider best to build the regression model. Finally, we calculated de r-squared and test model with other datas (jtest.csv, that didn't contain the SalePrice). \n",
    "\n"
   ]
  },
  {
   "cell_type": "markdown",
   "metadata": {},
   "source": [
    "[Back to top](#Index)\n",
    "\n",
    "## 2. The Data\n",
    "\n",
    "Resume the data: \n",
    "- **OverallQual:** Rates the overall material and finish of the house\n",
    "       10\tVery Excellent\n",
    "       9\tExcellent\n",
    "       8\tVery Good\n",
    "       7\tGood\n",
    "       6\tAbove Average\n",
    "       5\tAverage\n",
    "       4\tBelow Average\n",
    "       3\tFair\n",
    "       2\tPoor\n",
    "       1\tVery Poor\n",
    "- **GrLivArea**: Above grade (ground) living area square feet\n",
    "- **GarageArea**: Size of garage in square feet\n",
    "- **GarageCars**: Size of garage in car capacity\n",
    "- **YearBuilt**:  Year built\n",
    "- **TotalBsmtSF**: Total square feet of basement area\n",
    "- **FullBath**: Full bathrooms above grade\n",
    "- **MasVnrArea**:  Masonry veneer type\n",
    "       BrkCmn\t Brick Common\n",
    "       BrkFace\tBrick Face\n",
    "       CBlock\t Cinder Block\n",
    "       None \t  None\n",
    "       Stone\t  Stone\n",
    "- **TotRmsAbvGrd**: Total rooms above grade (does not include bathrooms)\n",
    "- **1stFlrSF**: First Floor square feet\n",
    "- **YearRemodAdd**: Remodel date (same as construction date if no remodeling or additions) \n",
    "- **LotArea**: Lot size in square feet\n",
    "- **Fireplaces**:  Number of fireplaces"
   ]
  },
  {
   "cell_type": "markdown",
   "metadata": {},
   "source": [
    "[Back to top](#Index)\n",
    "\n",
    "### 2.1 Import the Data and the libraries\n",
    "\n",
    "Import the necessary libraries and the data for the project.\n"
   ]
  },
  {
   "cell_type": "code",
   "execution_count": 4,
   "metadata": {},
   "outputs": [],
   "source": [
    "import pandas as pd\n",
    "import matplotlib.pyplot as plt\n",
    "import numpy as np\n",
    "import seaborn as sns\n",
    "from sklearn import linear_model"
   ]
  },
  {
   "cell_type": "markdown",
   "metadata": {},
   "source": [
    "#### Read the csv and verify shape"
   ]
  },
  {
   "cell_type": "code",
   "execution_count": 5,
   "metadata": {},
   "outputs": [
    {
     "data": {
      "text/plain": [
       "(100, 82)"
      ]
     },
     "execution_count": 5,
     "metadata": {},
     "output_type": "execute_result"
    }
   ],
   "source": [
    "data = pd.read_csv('./data/houseSmallData.csv')\n",
    "train = data\n",
    "train.shape"
   ]
  },
  {
   "cell_type": "markdown",
   "metadata": {},
   "source": [
    "#### Describe SalePrice"
   ]
  },
  {
   "cell_type": "code",
   "execution_count": 6,
   "metadata": {},
   "outputs": [
    {
     "data": {
      "text/plain": [
       "count       100.000000\n",
       "mean     173820.660000\n",
       "std       72236.552886\n",
       "min       40000.000000\n",
       "25%      129362.500000\n",
       "50%      153750.000000\n",
       "75%      207750.000000\n",
       "max      438780.000000\n",
       "Name: SalePrice, dtype: float64"
      ]
     },
     "execution_count": 6,
     "metadata": {},
     "output_type": "execute_result"
    }
   ],
   "source": [
    "salePrice = train['SalePrice']\n",
    "salePrice.describe()"
   ]
  },
  {
   "cell_type": "markdown",
   "metadata": {},
   "source": [
    "The SalePrice have mean around **173,820** and standard deviation around +/- 72,236 (101,584 < x < 246,056)\n"
   ]
  },
  {
   "cell_type": "markdown",
   "metadata": {},
   "source": [
    "[Back to top](#Index)\n",
    "\n",
    "### 2.2 Data Exploration"
   ]
  },
  {
   "cell_type": "markdown",
   "metadata": {},
   "source": [
    "### Plot histrogram - Sale Price"
   ]
  },
  {
   "cell_type": "markdown",
   "metadata": {},
   "source": [
    "The histogram of SalPrice was plot for analysis this dependent variable:"
   ]
  },
  {
   "cell_type": "code",
   "execution_count": 7,
   "metadata": {},
   "outputs": [
    {
     "data": {
      "text/plain": [
       "(array([ 2., 17., 35., 17., 11.,  8.,  5.,  3.,  1.,  1.]),\n",
       " array([ 40000.,  79878., 119756., 159634., 199512., 239390., 279268.,\n",
       "        319146., 359024., 398902., 438780.]),\n",
       " <BarContainer object of 10 artists>)"
      ]
     },
     "execution_count": 7,
     "metadata": {},
     "output_type": "execute_result"
    },
    {
     "data": {
      "image/png": "[encoded data removed]",
      "text/plain": [
       "<Figure size 432x288 with 1 Axes>"
      ]
     },
     "metadata": {
      "needs_background": "light"
     },
     "output_type": "display_data"
    }
   ],
   "source": [
    "plt.hist(salePrice)"
   ]
  },
  {
   "cell_type": "markdown",
   "metadata": {},
   "source": [
    "It's not normally distributed, it's fairly skewed. The calculate of skew show below:\n",
    "\n",
    "#### Skew \n",
    "obs. The function skew() returns unbiased skew over the requested axis."
   ]
  },
  {
   "cell_type": "code",
   "execution_count": 8,
   "metadata": {},
   "outputs": [
    {
     "data": {
      "text/plain": [
       "1.1783462304851948"
      ]
     },
     "execution_count": 8,
     "metadata": {},
     "output_type": "execute_result"
    }
   ],
   "source": [
    "salePrice.skew()"
   ]
  },
  {
   "cell_type": "markdown",
   "metadata": {},
   "source": [
    "The original data had a skew of 1.17, which is quite significant. But the log of this is: "
   ]
  },
  {
   "cell_type": "code",
   "execution_count": 9,
   "metadata": {},
   "outputs": [
    {
     "data": {
      "text/plain": [
       "-0.09632240207755555"
      ]
     },
     "execution_count": 9,
     "metadata": {},
     "output_type": "execute_result"
    }
   ],
   "source": [
    "np.log(salePrice).skew()"
   ]
  },
  {
   "cell_type": "code",
   "execution_count": 10,
   "metadata": {
    "scrolled": true
   },
   "outputs": [
    {
     "data": {
      "text/plain": [
       "(array([ 1.,  0.,  3.,  7., 21., 26., 18., 13.,  9.,  2.]),\n",
       " array([10.59663473, 10.8361466 , 11.07565847, 11.31517034, 11.55468221,\n",
       "        11.79419408, 12.03370595, 12.27321782, 12.51272969, 12.75224156,\n",
       "        12.99175343]),\n",
       " <BarContainer object of 10 artists>)"
      ]
     },
     "execution_count": 10,
     "metadata": {},
     "output_type": "execute_result"
    },
    {
     "data": {
      "image/png": "[encoded data removed]",
      "text/plain": [
       "<Figure size 432x288 with 1 Axes>"
      ]
     },
     "metadata": {
      "needs_background": "light"
     },
     "output_type": "display_data"
    }
   ],
   "source": [
    "plt.hist(np.log(salePrice))"
   ]
  },
  {
   "cell_type": "markdown",
   "metadata": {},
   "source": [
    "The slope is 0.09. And the log plot histogram SalePrice looks like more normaly distributed.\n",
    "It's reduced considerably from more than one to just about 0.1. So let's transform it, and let's target the sales price data log. So this is our new sales price data. "
   ]
  },
  {
   "cell_type": "code",
   "execution_count": 11,
   "metadata": {},
   "outputs": [],
   "source": [
    "target = np.log(salePrice)"
   ]
  },
  {
   "cell_type": "markdown",
   "metadata": {},
   "source": [
    "### Plot Correlation between Sales Price and predictors variables"
   ]
  },
  {
   "cell_type": "markdown",
   "metadata": {},
   "source": [
    "The correlaction between Sale Price and dependent variables was plot for analysis which variables can be more correlation with SalePrice. Correlation is not causalidade. "
   ]
  },
  {
   "cell_type": "code",
   "execution_count": 12,
   "metadata": {},
   "outputs": [
    {
     "data": {
      "image/png": "[encoded data removed]",
      "text/plain": [
       "<Figure size 576x864 with 2 Axes>"
      ]
     },
     "metadata": {
      "needs_background": "light"
     },
     "output_type": "display_data"
    }
   ],
   "source": [
    "numeric = data.select_dtypes(include=[np.number])\n",
    "corr = numeric.corr()\n",
    "df_cols = pd.DataFrame(corr['SalePrice'].sort_values(ascending=False))\n",
    "\n",
    "import seaborn as sns\n",
    "plt.figure(figsize=(8, 12))\n",
    "heatmap = sns.heatmap(df_cols, vmin=-1, vmax=1, annot=True, cmap='BrBG')\n",
    "heatmap.set_title('Features Correlating with Sales Price', fontdict={'fontsize':18}, pad=16);"
   ]
  },
  {
   "cell_type": "markdown",
   "metadata": {},
   "source": [
    "Acoording with graph below OverallQual and GrLivArea are more positive correlation with SalePrice. Enquanto OverallQual parece contribuir 86% com o SalePrice, GrLivArea parece contribuir em 74%"
   ]
  },
  {
   "cell_type": "markdown",
   "metadata": {},
   "source": [
    "[Back to top](#Index)\n",
    "\n",
    "### 2.3 Data Preparation\n",
    "\n",
    "Determine if there are any missing values in the data. \n"
   ]
  },
  {
   "cell_type": "markdown",
   "metadata": {},
   "source": [
    " #### Verify if columns has  null values"
   ]
  },
  {
   "cell_type": "code",
   "execution_count": 13,
   "metadata": {},
   "outputs": [
    {
     "data": {
      "text/plain": [
       "PoolQC          100\n",
       "Alley            94\n",
       "MiscFeature      91\n",
       "Fence            77\n",
       "FireplaceQu      54\n",
       "LotFrontage      14\n",
       "GarageType        6\n",
       "GarageYrBlt       6\n",
       "GarageFinish      6\n",
       "GarageQual        6\n",
       "GarageCond        6\n",
       "BsmtFinType1      3\n",
       "BsmtQual          3\n",
       "BsmtCond          3\n",
       "BsmtExposure      3\n",
       "BsmtFinType2      3\n",
       "KitchenAbvGr      0\n",
       "Functional        0\n",
       "BedroomAbvGr      0\n",
       "HalfBath          0\n",
       "dtype: int64"
      ]
     },
     "execution_count": 13,
     "metadata": {},
     "output_type": "execute_result"
    }
   ],
   "source": [
    "nulls = train.isnull().sum().sort_values(ascending=False)[0:20]\n",
    "nulls"
   ]
  },
  {
   "cell_type": "markdown",
   "metadata": {},
   "source": [
    "According to the result  above, there is quite a few nulls. The pool has 100, Alley has 94. This certainly shouldn't be analyzing."
   ]
  },
  {
   "cell_type": "markdown",
   "metadata": {},
   "source": [
    "The construction of the linear regression model correlate the variables as a number, therefore shouldn't be analyzing variables that has NaN or Null values."
   ]
  },
  {
   "cell_type": "markdown",
   "metadata": {},
   "source": [
    "#### Repair all nulls\n",
    "Operate on the training data to select the data types that np.number, interpolate to fill NaN values, remove missing and select datas that the sum of null values is non-zero. "
   ]
  },
  {
   "cell_type": "code",
   "execution_count": 14,
   "metadata": {},
   "outputs": [
    {
     "data": {
      "text/plain": [
       "(100, 39)"
      ]
     },
     "execution_count": 14,
     "metadata": {},
     "output_type": "execute_result"
    }
   ],
   "source": [
    "data = train.select_dtypes(include=(np.number)).interpolate().dropna(axis=1)\n",
    "sum(data.isnull().sum() != 0)\n",
    "\n",
    "data.shape"
   ]
  },
  {
   "cell_type": "markdown",
   "metadata": {},
   "source": [
    "**39 columns** were filtered according to the criteria set out above."
   ]
  },
  {
   "cell_type": "markdown",
   "metadata": {},
   "source": [
    "[Back to top](#Index)\n",
    "\n",
    "### 2.4 Correlation\n",
    "\n",
    "Top 20 correlations with SalePrice were selected to start the correlation analysis."
   ]
  },
  {
   "cell_type": "code",
   "execution_count": 15,
   "metadata": {},
   "outputs": [],
   "source": [
    "numeric = data.select_dtypes(include=[np.number])\n",
    "corr = numeric.corr()\n",
    "cols = corr['SalePrice'].sort_values(ascending=False)[0:20]"
   ]
  },
  {
   "cell_type": "markdown",
   "metadata": {},
   "source": [
    "Correlations with values close to 0.5 were chosen because the correlation is approximately equal to or greater than 50% (half). It is worth mentioning that correlations do not mean causality."
   ]
  },
  {
   "cell_type": "code",
   "execution_count": 16,
   "metadata": {},
   "outputs": [
    {
     "data": {
      "image/png": "[encoded data removed]",
      "text/plain": [
       "<Figure size 576x864 with 2 Axes>"
      ]
     },
     "metadata": {
      "needs_background": "light"
     },
     "output_type": "display_data"
    }
   ],
   "source": [
    "df_cols = pd.DataFrame(corr['SalePrice'].sort_values(ascending=False)[1:15])\n",
    "\n",
    "import seaborn as sns\n",
    "plt.figure(figsize=(8, 12))\n",
    "heatmap = sns.heatmap(df_cols, vmin=-1, vmax=1, annot=True, cmap='BrBG')\n",
    "heatmap.set_title('Features Correlating with Sales Price', fontdict={'fontsize':18}, pad=16);"
   ]
  },
  {
   "cell_type": "code",
   "execution_count": 17,
   "metadata": {},
   "outputs": [
    {
     "data": {
      "text/plain": [
       "Index(['SalePrice', 'OverallQual', 'GrLivArea', 'GarageArea', 'GarageCars',\n",
       "       'YearBuilt', 'TotalBsmtSF', 'GarageYrBlt', 'FullBath', 'MasVnrArea',\n",
       "       'TotRmsAbvGrd', '1stFlrSF', 'YearRemodAdd', 'LotArea', 'Fireplaces'],\n",
       "      dtype='object')"
      ]
     },
     "execution_count": 17,
     "metadata": {},
     "output_type": "execute_result"
    }
   ],
   "source": [
    "cols = corr['SalePrice'].sort_values(ascending=False)[0:15]\n",
    "cols = corr['SalePrice'].sort_values(ascending=False)[0:15].index\n",
    "cols"
   ]
  },
  {
   "cell_type": "code",
   "execution_count": 18,
   "metadata": {},
   "outputs": [
    {
     "data": {
      "image/png": "[encoded data removed]",
      "text/plain": [
       "<Figure size 1080x1080 with 14 Axes>"
      ]
     },
     "metadata": {
      "needs_background": "light"
     },
     "output_type": "display_data"
    }
   ],
   "source": [
    "plt.figure(figsize = ((15, 15)))\n",
    "\n",
    "plt.subplot(7, 3, 1)\n",
    "plt.title(\"SalePrice x OverallQual\", fontsize = 16)\n",
    "plt.scatter(train['OverallQual'], y=target)\n",
    "\n",
    "plt.subplot(7, 3, 2)\n",
    "plt.title(\"SalePrice x GrLivArea\", fontsize = 16)\n",
    "plt.scatter(train['GrLivArea'], y=target)\n",
    "\n",
    "plt.subplot(7, 3, 3)\n",
    "plt.title(\"SalePrice x GarageArea\", fontsize = 16)\n",
    "plt.scatter(train['GarageArea'], y=target)\n",
    "\n",
    "plt.subplot(7, 3, 4)\n",
    "plt.title(\"SalePrice x GarageCars\", fontsize = 16)\n",
    "plt.scatter(train['GarageCars'], y=target)\n",
    "\n",
    "plt.subplot(7, 3, 5)\n",
    "plt.title(\"SalePrice x YearBuilt\", fontsize = 16)\n",
    "plt.scatter(train['YearBuilt'], y=target)\n",
    "\n",
    "plt.subplot(7, 3, 6)\n",
    "plt.title(\"SalePrice x TotalBsmtSF\", fontsize = 16)\n",
    "plt.scatter(train['TotalBsmtSF'], y=target)\n",
    "\n",
    "plt.subplot(7, 3, 7)\n",
    "plt.title(\"SalePrice x GarageYrBlt\", fontsize = 16)\n",
    "plt.scatter(train['GarageYrBlt'], y=target)\n",
    "\n",
    "plt.subplot(7, 3, 8)\n",
    "plt.title(\"SalePrice x FullBath\", fontsize = 16)\n",
    "plt.scatter(train['FullBath'], y=target)\n",
    "\n",
    "plt.subplot(7, 3, 9)\n",
    "plt.title(\"SalePrice x MasVnrArea\", fontsize = 16)\n",
    "plt.scatter(train['MasVnrArea'], y=target)\n",
    "\n",
    "plt.subplot(7, 3, 10)\n",
    "plt.title(\"SalePrice x TotRmsAbvGrd\", fontsize = 16)\n",
    "plt.scatter(train['TotRmsAbvGrd'], y=target)\n",
    "\n",
    "plt.subplot(7, 3, 11)\n",
    "plt.title(\"SalePrice x 1stFlrSF\", fontsize = 16)\n",
    "plt.scatter(train['1stFlrSF'], y=target)\n",
    "\n",
    "plt.subplot(7, 3, 12)\n",
    "plt.title(\"SalePrice x YearRemodAdd\", fontsize = 16)\n",
    "plt.scatter(train['YearRemodAdd'], y=target)\n",
    "\n",
    "plt.subplot(7, 3, 13)\n",
    "plt.title(\"SalePrice x LotArea\", fontsize = 16)\n",
    "plt.scatter(train['LotArea'], y=target)\n",
    "\n",
    "plt.subplot(7, 3, 14)\n",
    "plt.title(\"SalePrice x Fireplaces\", fontsize = 16)\n",
    "plt.scatter(train['Fireplaces'], y=target)\n",
    "\n",
    "plt.suptitle(\"Correlation Graphs\", fontsize = 20)\n",
    "plt.subplots_adjust(left=0.125, bottom=0.1, right=0.9, top=0.9, wspace=0.3, hspace=0.55)\n",
    "plt.show()"
   ]
  },
  {
   "cell_type": "code",
   "execution_count": 19,
   "metadata": {},
   "outputs": [
    {
     "name": "stdout",
     "output_type": "stream",
     "text": [
      "GarageYrBlt has 6 not a numbers\n"
     ]
    }
   ],
   "source": [
    "nan = train['GarageYrBlt'].isna().sum()\n",
    "print(f'GarageYrBlt has {nan} not a numbers')"
   ]
  },
  {
   "cell_type": "markdown",
   "metadata": {},
   "source": [
    "GarageYrBlt has 6 not a numbers and it's impossible to test a model with NaN values. So GarageYrBlt drop to X in test and train datas. "
   ]
  },
  {
   "cell_type": "code",
   "execution_count": 20,
   "metadata": {},
   "outputs": [
    {
     "data": {
      "text/html": [
       "<div>\n",
       "<style scoped>\n",
       "    .dataframe tbody tr th:only-of-type {\n",
       "        vertical-align: middle;\n",
       "    }\n",
       "\n",
       "    .dataframe tbody tr th {\n",
       "        vertical-align: top;\n",
       "    }\n",
       "\n",
       "    .dataframe thead th {\n",
       "        text-align: right;\n",
       "    }\n",
       "</style>\n",
       "<table border=\"1\" class=\"dataframe\">\n",
       "  <thead>\n",
       "    <tr style=\"text-align: right;\">\n",
       "      <th></th>\n",
       "      <th>OverallQual</th>\n",
       "      <th>GrLivArea</th>\n",
       "      <th>GarageArea</th>\n",
       "      <th>GarageCars</th>\n",
       "      <th>YearBuilt</th>\n",
       "      <th>TotalBsmtSF</th>\n",
       "      <th>FullBath</th>\n",
       "      <th>MasVnrArea</th>\n",
       "      <th>TotRmsAbvGrd</th>\n",
       "      <th>1stFlrSF</th>\n",
       "      <th>YearRemodAdd</th>\n",
       "      <th>LotArea</th>\n",
       "      <th>Fireplaces</th>\n",
       "    </tr>\n",
       "  </thead>\n",
       "  <tbody>\n",
       "    <tr>\n",
       "      <th>0</th>\n",
       "      <td>7</td>\n",
       "      <td>1710</td>\n",
       "      <td>548</td>\n",
       "      <td>2</td>\n",
       "      <td>2003</td>\n",
       "      <td>856</td>\n",
       "      <td>2</td>\n",
       "      <td>196.0</td>\n",
       "      <td>8</td>\n",
       "      <td>856</td>\n",
       "      <td>2003</td>\n",
       "      <td>8450</td>\n",
       "      <td>0</td>\n",
       "    </tr>\n",
       "    <tr>\n",
       "      <th>1</th>\n",
       "      <td>6</td>\n",
       "      <td>1262</td>\n",
       "      <td>460</td>\n",
       "      <td>2</td>\n",
       "      <td>1976</td>\n",
       "      <td>1262</td>\n",
       "      <td>2</td>\n",
       "      <td>0.0</td>\n",
       "      <td>6</td>\n",
       "      <td>1262</td>\n",
       "      <td>1976</td>\n",
       "      <td>9600</td>\n",
       "      <td>1</td>\n",
       "    </tr>\n",
       "    <tr>\n",
       "      <th>2</th>\n",
       "      <td>7</td>\n",
       "      <td>1786</td>\n",
       "      <td>608</td>\n",
       "      <td>2</td>\n",
       "      <td>2001</td>\n",
       "      <td>920</td>\n",
       "      <td>2</td>\n",
       "      <td>162.0</td>\n",
       "      <td>6</td>\n",
       "      <td>920</td>\n",
       "      <td>2002</td>\n",
       "      <td>11250</td>\n",
       "      <td>1</td>\n",
       "    </tr>\n",
       "    <tr>\n",
       "      <th>3</th>\n",
       "      <td>7</td>\n",
       "      <td>1717</td>\n",
       "      <td>642</td>\n",
       "      <td>3</td>\n",
       "      <td>1915</td>\n",
       "      <td>756</td>\n",
       "      <td>1</td>\n",
       "      <td>0.0</td>\n",
       "      <td>7</td>\n",
       "      <td>961</td>\n",
       "      <td>1970</td>\n",
       "      <td>9550</td>\n",
       "      <td>1</td>\n",
       "    </tr>\n",
       "    <tr>\n",
       "      <th>4</th>\n",
       "      <td>8</td>\n",
       "      <td>2198</td>\n",
       "      <td>836</td>\n",
       "      <td>3</td>\n",
       "      <td>2000</td>\n",
       "      <td>1145</td>\n",
       "      <td>2</td>\n",
       "      <td>350.0</td>\n",
       "      <td>9</td>\n",
       "      <td>1145</td>\n",
       "      <td>2000</td>\n",
       "      <td>14260</td>\n",
       "      <td>1</td>\n",
       "    </tr>\n",
       "    <tr>\n",
       "      <th>...</th>\n",
       "      <td>...</td>\n",
       "      <td>...</td>\n",
       "      <td>...</td>\n",
       "      <td>...</td>\n",
       "      <td>...</td>\n",
       "      <td>...</td>\n",
       "      <td>...</td>\n",
       "      <td>...</td>\n",
       "      <td>...</td>\n",
       "      <td>...</td>\n",
       "      <td>...</td>\n",
       "      <td>...</td>\n",
       "      <td>...</td>\n",
       "    </tr>\n",
       "    <tr>\n",
       "      <th>95</th>\n",
       "      <td>6</td>\n",
       "      <td>1470</td>\n",
       "      <td>420</td>\n",
       "      <td>2</td>\n",
       "      <td>1993</td>\n",
       "      <td>680</td>\n",
       "      <td>2</td>\n",
       "      <td>68.0</td>\n",
       "      <td>6</td>\n",
       "      <td>680</td>\n",
       "      <td>1993</td>\n",
       "      <td>9765</td>\n",
       "      <td>1</td>\n",
       "    </tr>\n",
       "    <tr>\n",
       "      <th>96</th>\n",
       "      <td>7</td>\n",
       "      <td>1588</td>\n",
       "      <td>472</td>\n",
       "      <td>2</td>\n",
       "      <td>1999</td>\n",
       "      <td>1588</td>\n",
       "      <td>2</td>\n",
       "      <td>183.0</td>\n",
       "      <td>6</td>\n",
       "      <td>1588</td>\n",
       "      <td>1999</td>\n",
       "      <td>10264</td>\n",
       "      <td>0</td>\n",
       "    </tr>\n",
       "    <tr>\n",
       "      <th>97</th>\n",
       "      <td>4</td>\n",
       "      <td>960</td>\n",
       "      <td>432</td>\n",
       "      <td>1</td>\n",
       "      <td>1965</td>\n",
       "      <td>960</td>\n",
       "      <td>1</td>\n",
       "      <td>48.0</td>\n",
       "      <td>6</td>\n",
       "      <td>960</td>\n",
       "      <td>1965</td>\n",
       "      <td>10921</td>\n",
       "      <td>0</td>\n",
       "    </tr>\n",
       "    <tr>\n",
       "      <th>98</th>\n",
       "      <td>5</td>\n",
       "      <td>835</td>\n",
       "      <td>366</td>\n",
       "      <td>1</td>\n",
       "      <td>1920</td>\n",
       "      <td>458</td>\n",
       "      <td>1</td>\n",
       "      <td>0.0</td>\n",
       "      <td>5</td>\n",
       "      <td>835</td>\n",
       "      <td>1950</td>\n",
       "      <td>10625</td>\n",
       "      <td>0</td>\n",
       "    </tr>\n",
       "    <tr>\n",
       "      <th>99</th>\n",
       "      <td>4</td>\n",
       "      <td>1225</td>\n",
       "      <td>0</td>\n",
       "      <td>0</td>\n",
       "      <td>1959</td>\n",
       "      <td>950</td>\n",
       "      <td>1</td>\n",
       "      <td>0.0</td>\n",
       "      <td>6</td>\n",
       "      <td>1225</td>\n",
       "      <td>1959</td>\n",
       "      <td>9320</td>\n",
       "      <td>0</td>\n",
       "    </tr>\n",
       "  </tbody>\n",
       "</table>\n",
       "<p>100 rows × 13 columns</p>\n",
       "</div>"
      ],
      "text/plain": [
       "    OverallQual  GrLivArea  GarageArea  GarageCars  YearBuilt  TotalBsmtSF  \\\n",
       "0             7       1710         548           2       2003          856   \n",
       "1             6       1262         460           2       1976         1262   \n",
       "2             7       1786         608           2       2001          920   \n",
       "3             7       1717         642           3       1915          756   \n",
       "4             8       2198         836           3       2000         1145   \n",
       "..          ...        ...         ...         ...        ...          ...   \n",
       "95            6       1470         420           2       1993          680   \n",
       "96            7       1588         472           2       1999         1588   \n",
       "97            4        960         432           1       1965          960   \n",
       "98            5        835         366           1       1920          458   \n",
       "99            4       1225           0           0       1959          950   \n",
       "\n",
       "    FullBath  MasVnrArea  TotRmsAbvGrd  1stFlrSF  YearRemodAdd  LotArea  \\\n",
       "0          2       196.0             8       856          2003     8450   \n",
       "1          2         0.0             6      1262          1976     9600   \n",
       "2          2       162.0             6       920          2002    11250   \n",
       "3          1         0.0             7       961          1970     9550   \n",
       "4          2       350.0             9      1145          2000    14260   \n",
       "..       ...         ...           ...       ...           ...      ...   \n",
       "95         2        68.0             6       680          1993     9765   \n",
       "96         2       183.0             6      1588          1999    10264   \n",
       "97         1        48.0             6       960          1965    10921   \n",
       "98         1         0.0             5       835          1950    10625   \n",
       "99         1         0.0             6      1225          1959     9320   \n",
       "\n",
       "    Fireplaces  \n",
       "0            0  \n",
       "1            1  \n",
       "2            1  \n",
       "3            1  \n",
       "4            1  \n",
       "..         ...  \n",
       "95           1  \n",
       "96           0  \n",
       "97           0  \n",
       "98           0  \n",
       "99           0  \n",
       "\n",
       "[100 rows x 13 columns]"
      ]
     },
     "execution_count": 20,
     "metadata": {},
     "output_type": "execute_result"
    }
   ],
   "source": [
    "X = data[cols]\n",
    "Y = X['SalePrice']\n",
    "X = X.drop(['SalePrice', 'GarageYrBlt'],axis=1)\n",
    "X"
   ]
  },
  {
   "attachments": {
    "image-2.png": {
     "image/png": "[encoded data removed]"
    }
   },
   "cell_type": "markdown",
   "metadata": {},
   "source": [
    "\n",
    "[Back to top](#Index)\n",
    "\n",
    "## 3. Project Description\n",
    "\n",
    "This project use data analysis techniques and linear regression to create a model to predict housing prices. Therefore, the target variable is: \"SalePrice\" the other variables are predictors. \n",
    "In this project we were challenged to improve a model presented in which the R-squared was 0.8309859964337736 and for the test it was 0.7403341313192586, in this model 5 predictor variables were selected.\n",
    "According to our analyses, we selected 13 numeric predictors variables that had a correlation of up to 50% with SalePrice, as we believe that these correlation indices result in a model with a high r-square.\n",
    "The variables that we used was: \n",
    "- **OverallQual:** Rates the overall material and finish of the house\n",
    "       10\tVery Excellent\n",
    "       9\tExcellent\n",
    "       8\tVery Good\n",
    "       7\tGood\n",
    "       6\tAbove Average\n",
    "       5\tAverage\n",
    "       4\tBelow Average\n",
    "       3\tFair\n",
    "       2\tPoor\n",
    "       1\tVery Poor\n",
    "- **GrLivArea**: Above grade (ground) living area square feet\n",
    "- **GarageArea**: Size of garage in square feet\n",
    "- **GarageCars**: Size of garage in car capacity\n",
    "- **YearBuilt**:  Year built\n",
    "- **TotalBsmtSF**: Total square feet of basement area\n",
    "- **FullBath**: Full bathrooms above grade\n",
    "- **MasVnrArea**:  Masonry veneer type\n",
    "       BrkCmn\tBrick Common\n",
    "       BrkFace\tBrick Face\n",
    "       CBlock\tCinder Block\n",
    "       None\tNone\n",
    "       Stone\tStone\n",
    "- **TotRmsAbvGrd**: Total rooms above grade (does not include bathrooms)\n",
    "- **1stFlrSF**: First Floor square feet\n",
    "- **YearRemodAdd**: Remodel date (same as construction date if no remodeling or additions) \n",
    "- **LotArea**: Lot size in square feet\n",
    "- **Fireplaces**:  Number of fireplaces\n",
    "\n",
    "For more description you can access the file: 'data_description.txt'\n",
    "\n",
    "Then we applied these algorithms to construct the regression model:\n",
    "\n",
    "<img src='./img/algorithm_lr.png' width='500'>\n"
   ]
  },
  {
   "attachments": {
    "image-10.png": {
     "image/png": "[encoded data removed]"
    },
    "image-12.png": {
     "image/png": "[encoded data removed]"
    },
    "image-13.png": {
     "image/png": "[encoded data removed]"
    },
    "image-14.png": {
     "image/png": "[encoded data removed]"
    },
    "image-15.png": {
     "image/png": "[encoded data removed]"
    },
    "image-16.png": {
     "image/png": "[encoded data removed]"
    },
    "image-17.png": {
     "image/png": "[encoded data removed]"
    },
    "image-19.png": {
     "image/png": "[encoded data removed]"
    },
    "image-2.png": {
     "image/png": "[encoded data removed]"
    },
    "image-20.png": {
     "image/png": "[encoded data removed]"
    },
    "image-21.png": {
     "image/png": "[encoded data removed]"
    },
    "image-22.png": {
     "image/png": "[encoded data removed]"
    },
    "image-23.png": {
     "image/png": "[encoded data removed]"
    },
    "image-24.png": {
     "image/png": "[encoded data removed]"
    },
    "image-26.png": {
     "image/png": "[encoded data removed]"
    },
    "image-27.png": {
     "image/png": "[encoded data removed]"
    },
    "image-28.png": {
     "image/png": "[encoded data removed]"
    },
    "image-29.png": {
     "image/png": "[encoded data removed]"
    },
    "image-3.png": {
     "image/png": "[encoded data removed]"
    },
    "image-4.png": {
     "image/png": "[encoded data removed]"
    },
    "image-5.png": {
     "image/png": "[encoded data removed]"
    },
    "image-7.png": {
     "image/png": "[encoded data removed]"
    },
    "image-8.png": {
     "image/png": "[encoded data removed]"
    },
    "image-9.png": {
     "image/png": "[encoded data removed]"
    }
   },
   "cell_type": "markdown",
   "metadata": {},
   "source": [
    "[Back to top](#Index)\n",
    "\n",
    "### 3.1 Linear Regression\n",
    "\n",
    "A regression study essentially seeks to **associate a variable Y (called the response variable or dependent variable) to another variables X (called the explanatory/predictions variables or independent variables).**\n",
    "\n",
    "**Y → TARGET VARIABLE (output)**\n",
    "\n",
    "**X → PREDICTORS VARIABLES (input)**\n",
    "\n",
    "There are two types of linear regression: simple and multiple.\n",
    "\n",
    "These datas has multiple sets of data are used to make the prediction, because of these the type of the linear regression is multiple. \n",
    "\n",
    "The equation for multiple linear regression becomes:\n",
    "\n",
    "<img src='./img/eq_multiple_lr.png' width='250'>\n",
    "\n",
    "Where x1, x2, xn  represent the data points of all the independent variables used to make the prediction, m1, m2, mn are the weights, b is the bias and e is the error.\n",
    "By the method of least squares it is possible to predict the values of m and b:\n",
    "\n",
    "<img src='./img/predict_values.png' width='80'>\n",
    "\n",
    "The idea is that by minimizing the residual sum of squares we find m and b that will have the smallest difference between the prediction and the actually observed.\n",
    "\n",
    "<img src='./img/small_dif.png' width='300'>\n",
    "\n",
    "Error minimization is achieved by differentiating S(m,b) with respect to m and b using the chain rule and then setting it to zero.\n",
    "\n",
    "<img src='./img/error.png' width='200'>\n",
    "\n",
    "First expression: \n",
    "\n",
    "<img src='./img/first_eq.png' width='250'>\n",
    "\n",
    "Second expression: \n",
    "\n",
    "<img src='./img/second_eq.png' width='250'>\n",
    "\n",
    "Dividing and distributing the first expression by 2n:\n",
    "\n",
    "<img src='./img/div.png' width='300'>\n",
    "\n",
    "where \n",
    "\n",
    "<img src='./img/leg.png' width='170'>\n",
    "\n",
    "Substituting this result into the second expression:\n",
    "\n",
    "<img src='./img/subst_second.png' width='300'>\n",
    "\n",
    "#### Calculate R-squared\n",
    "\n",
    "<img src='./img/r_squared.png' width='200'>\n",
    "\n",
    "where:\n",
    "\n",
    "<img src='./img/leg_error.png' width='200'>\n",
    "\n",
    "Normalizing the equation above: \n",
    "\n",
    "<img src='./img/normal.png' width='200'>"
   ]
  },
  {
   "cell_type": "code",
   "execution_count": 21,
   "metadata": {},
   "outputs": [
    {
     "name": "stdout",
     "output_type": "stream",
     "text": [
      "R-Squared is: 0.8800453086074875\n"
     ]
    }
   ],
   "source": [
    "lr = linear_model.LinearRegression()\n",
    "model = lr.fit(X,Y)\n",
    "predictions = model.predict(X)\n",
    "print(f'R-Squared is: {model.score(X,Y)}')"
   ]
  },
  {
   "cell_type": "markdown",
   "metadata": {},
   "source": [
    "In other words, 88% of the 'SalePrice' is already being predicted from those variables"
   ]
  },
  {
   "cell_type": "code",
   "execution_count": 22,
   "metadata": {},
   "outputs": [
    {
     "data": {
      "text/plain": [
       "(array([ 1.,  0.,  5., 23., 22., 31.,  8.,  9.,  0.,  1.]),\n",
       " array([-84599.97882017, -67332.45485965, -50064.93089913, -32797.40693861,\n",
       "        -15529.88297809,   1737.64098243,  19005.16494295,  36272.68890347,\n",
       "         53540.21286399,  70807.73682451,  88075.26078503]),\n",
       " <BarContainer object of 10 artists>)"
      ]
     },
     "execution_count": 22,
     "metadata": {},
     "output_type": "execute_result"
    },
    {
     "data": {
      "image/png": "[encoded data removed]",
      "text/plain": [
       "<Figure size 432x288 with 1 Axes>"
      ]
     },
     "metadata": {
      "needs_background": "light"
     },
     "output_type": "display_data"
    }
   ],
   "source": [
    "plt.hist(Y-predictions)"
   ]
  },
  {
   "cell_type": "markdown",
   "metadata": {},
   "source": [
    "And we can take a look now at predictions. Perfect! 'Y' minus 'y' predictions should look like a normal distribution. And it does. Let's take a look at the scatter plot. That looks pretty good. Should look like a straight line. That looks very good indeed."
   ]
  },
  {
   "cell_type": "code",
   "execution_count": 23,
   "metadata": {},
   "outputs": [
    {
     "data": {
      "text/plain": [
       "Text(0.5, 1.0, 'Y x Predictions')"
      ]
     },
     "execution_count": 23,
     "metadata": {},
     "output_type": "execute_result"
    },
    {
     "data": {
      "image/png": "[encoded data removed]",
      "text/plain": [
       "<Figure size 432x288 with 1 Axes>"
      ]
     },
     "metadata": {
      "needs_background": "light"
     },
     "output_type": "display_data"
    }
   ],
   "source": [
    "plt.scatter(predictions, Y, color='r')\n",
    "m, b = np.polyfit(predictions, Y, 1)\n",
    "plt.plot(predictions, m*predictions+b, color='b')\n",
    "plt.title(\"Y x Predictions\", fontsize=20)"
   ]
  },
  {
   "cell_type": "markdown",
   "metadata": {},
   "source": [
    "[Back to top](#Index)\n",
    "\n",
    "### 3.2 Analysis \n",
    "The analysis was performed with three models of linear variables, each with a number of variable variables. Below is a summary of key data from these analyses.\n"
   ]
  },
  {
   "cell_type": "markdown",
   "metadata": {},
   "source": [
    "### Fisrt Model"
   ]
  },
  {
   "cell_type": "code",
   "execution_count": 24,
   "metadata": {},
   "outputs": [
    {
     "name": "stdout",
     "output_type": "stream",
     "text": [
      "R-Squared is: 0.8309859964337732\n"
     ]
    }
   ],
   "source": [
    "cols1 = corr['SalePrice'].sort_values(ascending=False)[0:6].index\n",
    "X1 = data[cols1]\n",
    "Y1 = X1['SalePrice']\n",
    "X1 = X1.drop(['SalePrice'],axis=1)\n",
    "lr = linear_model.LinearRegression()\n",
    "model = lr.fit(X1,Y1)\n",
    "predictions = model.predict(X1)\n",
    "print(f'R-Squared is: {model.score(X1,Y1)}')"
   ]
  },
  {
   "cell_type": "markdown",
   "metadata": {},
   "source": [
    "**Test Model**"
   ]
  },
  {
   "cell_type": "code",
   "execution_count": 26,
   "metadata": {},
   "outputs": [
    {
     "name": "stdout",
     "output_type": "stream",
     "text": [
      "R^2 is: 0.7403341313192588\n"
     ]
    }
   ],
   "source": [
    "test = pd.read_csv('./data/jtest.csv')\n",
    "test.head()\n",
    "\n",
    "X1 = test[cols1]\n",
    "Y1 = X1['SalePrice']\n",
    "X1 = X1.drop(['SalePrice'], axis=1)\n",
    "\n",
    "predictions = model.predict(X1)\n",
    "print(f'R^2 is: {model.score(X1,Y1)}')"
   ]
  },
  {
   "cell_type": "markdown",
   "metadata": {},
   "source": [
    "--- \n",
    "### Second Model"
   ]
  },
  {
   "cell_type": "code",
   "execution_count": 28,
   "metadata": {},
   "outputs": [
    {
     "name": "stdout",
     "output_type": "stream",
     "text": [
      "R-Squared is: 0.8505906585270374\n"
     ]
    }
   ],
   "source": [
    "cols2 = corr['SalePrice'].sort_values(ascending=False)[0:9].index\n",
    "X2 = data[cols2]\n",
    "Y2 = X2['SalePrice']\n",
    "X2 = X2.drop(['SalePrice','GarageYrBlt' ],axis=1)\n",
    "lr = linear_model.LinearRegression()\n",
    "model = lr.fit(X2,Y2)\n",
    "predictions = model.predict(X2)\n",
    "print(f'R-Squared is: {model.score(X2,Y2)}')"
   ]
  },
  {
   "cell_type": "markdown",
   "metadata": {},
   "source": [
    "**Test Model**"
   ]
  },
  {
   "cell_type": "code",
   "execution_count": 29,
   "metadata": {},
   "outputs": [
    {
     "name": "stdout",
     "output_type": "stream",
     "text": [
      "R^2 is: 0.7591746252173406\n"
     ]
    }
   ],
   "source": [
    "test = pd.read_csv('./data/jtest.csv')\n",
    "test.head()\n",
    "\n",
    "X2 = test[cols2]\n",
    "Y2 = X2['SalePrice']\n",
    "X2 = X2.drop(['SalePrice', 'GarageYrBlt'], axis=1)\n",
    "\n",
    "predictions = model.predict(X2)\n",
    "print(f'R^2 is: {model.score(X2,Y2)}')"
   ]
  },
  {
   "cell_type": "markdown",
   "metadata": {},
   "source": [
    "---\n",
    "### Third Model"
   ]
  },
  {
   "cell_type": "code",
   "execution_count": null,
   "metadata": {},
   "outputs": [
    {
     "name": "stdout",
     "output_type": "stream",
     "text": [
      "R-Squared is: 0.8516019286804777\n"
     ]
    }
   ],
   "source": [
    "cols3 = corr['SalePrice'].sort_values(ascending=False)[0:12].index\n",
    "X3 = data[cols3]\n",
    "Y3 = X3['SalePrice']\n",
    "X3 = X3.drop(['SalePrice','GarageYrBlt' ],axis=1)\n",
    "lr = linear_model.LinearRegression()\n",
    "model = lr.fit(X3,Y3)\n",
    "predictions = model.predict(X3)\n",
    "print(f'R-Squared is: {model.score(X3,Y3)}')"
   ]
  },
  {
   "cell_type": "code",
   "execution_count": null,
   "metadata": {},
   "outputs": [
    {
     "data": {
      "text/plain": [
       "Index(['SalePrice', 'OverallQual', 'GrLivArea', 'GarageArea', 'GarageCars',\n",
       "       'YearBuilt', 'TotalBsmtSF', 'GarageYrBlt', 'FullBath', 'MasVnrArea',\n",
       "       'TotRmsAbvGrd', '1stFlrSF'],\n",
       "      dtype='object')"
      ]
     },
     "execution_count": 36,
     "metadata": {},
     "output_type": "execute_result"
    }
   ],
   "source": [
    "cols3"
   ]
  },
  {
   "cell_type": "markdown",
   "metadata": {},
   "source": [
    "**Test Model**"
   ]
  },
  {
   "cell_type": "code",
   "execution_count": null,
   "metadata": {},
   "outputs": [
    {
     "name": "stdout",
     "output_type": "stream",
     "text": [
      "R^2 is: 0.7569646119281211\n"
     ]
    }
   ],
   "source": [
    "test = pd.read_csv('jtest.csv')\n",
    "test.head()\n",
    "\n",
    "X3 = test[cols3]\n",
    "Y3 = X3['SalePrice']\n",
    "X3 = X3.drop(['SalePrice', 'GarageYrBlt'], axis=1)\n",
    "\n",
    "predictions = model.predict(X3)\n",
    "print(f'R^2 is: {model.score(X3,Y3)}')"
   ]
  },
  {
   "cell_type": "markdown",
   "metadata": {},
   "source": [
    "--- \n",
    "### The best model that are expose above: \n",
    "\n",
    "    "
   ]
  },
  {
   "cell_type": "code",
   "execution_count": null,
   "metadata": {},
   "outputs": [
    {
     "name": "stdout",
     "output_type": "stream",
     "text": [
      "R-Squared is: 0.8800453086074878\n"
     ]
    }
   ],
   "source": [
    "cols = corr['SalePrice'].sort_values(ascending=False)[0:15].index\n",
    "X = data[cols]\n",
    "Y = X['SalePrice']\n",
    "X = X.drop(['SalePrice','GarageYrBlt' ],axis=1)\n",
    "lr = linear_model.LinearRegression()\n",
    "model = lr.fit(X,Y)\n",
    "predictions = model.predict(X)\n",
    "print(f'R-Squared is: {model.score(X,Y)}')"
   ]
  },
  {
   "cell_type": "code",
   "execution_count": null,
   "metadata": {},
   "outputs": [
    {
     "data": {
      "text/plain": [
       "Index(['SalePrice', 'OverallQual', 'GrLivArea', 'GarageArea', 'GarageCars',\n",
       "       'YearBuilt', 'TotalBsmtSF', 'GarageYrBlt', 'FullBath', 'MasVnrArea',\n",
       "       'TotRmsAbvGrd', '1stFlrSF', 'YearRemodAdd', 'LotArea', 'Fireplaces'],\n",
       "      dtype='object')"
      ]
     },
     "execution_count": 39,
     "metadata": {},
     "output_type": "execute_result"
    }
   ],
   "source": [
    "cols"
   ]
  },
  {
   "cell_type": "markdown",
   "metadata": {},
   "source": [
    "**Test Model:** the test will be explained below"
   ]
  },
  {
   "cell_type": "markdown",
   "metadata": {},
   "source": [
    "[Back to top](#Index)\n",
    "\n",
    "### 3.3 Results\n",
    "\n",
    "The best model is the one with the greatest number of variables. We chose to only select variables that had a correlation equal to or close to 0.5.\n",
    "\n",
    "The predictors variables for the chosen model were:\n",
    "\n",
    "'OverallQual', 'GrLivArea', 'GarageArea', 'GarageCars', 'YearBuilt', 'TotalBsmtSF', 'FullBath', 'MasVnrArea',        'TotRmsAbvGrd', '1stFlrSF', 'YearRemodAdd', 'LotArea', 'Fireplaces'. \n",
    "\n",
    "**The results show that this variables being predict 88% of the 'SalePrice'.**"
   ]
  },
  {
   "cell_type": "markdown",
   "metadata": {},
   "source": [
    "[Back to top](#Index)\n",
    "\n",
    "### 3.4 Verify Your Model Against Test Data\n",
    "\n",
    "The model will test against test data to confirm its accuracy on new data. The test data is located in the file `jtest.csv` "
   ]
  },
  {
   "cell_type": "code",
   "execution_count": null,
   "metadata": {},
   "outputs": [
    {
     "data": {
      "text/html": [
       "<div>\n",
       "<style scoped>\n",
       "    .dataframe tbody tr th:only-of-type {\n",
       "        vertical-align: middle;\n",
       "    }\n",
       "\n",
       "    .dataframe tbody tr th {\n",
       "        vertical-align: top;\n",
       "    }\n",
       "\n",
       "    .dataframe thead th {\n",
       "        text-align: right;\n",
       "    }\n",
       "</style>\n",
       "<table border=\"1\" class=\"dataframe\">\n",
       "  <thead>\n",
       "    <tr style=\"text-align: right;\">\n",
       "      <th></th>\n",
       "      <th>Unnamed: 0</th>\n",
       "      <th>Id</th>\n",
       "      <th>MSSubClass</th>\n",
       "      <th>MSZoning</th>\n",
       "      <th>LotFrontage</th>\n",
       "      <th>LotArea</th>\n",
       "      <th>Street</th>\n",
       "      <th>Alley</th>\n",
       "      <th>LotShape</th>\n",
       "      <th>LandContour</th>\n",
       "      <th>...</th>\n",
       "      <th>PoolArea</th>\n",
       "      <th>PoolQC</th>\n",
       "      <th>Fence</th>\n",
       "      <th>MiscFeature</th>\n",
       "      <th>MiscVal</th>\n",
       "      <th>MoSold</th>\n",
       "      <th>YrSold</th>\n",
       "      <th>SaleType</th>\n",
       "      <th>SaleCondition</th>\n",
       "      <th>SalePrice</th>\n",
       "    </tr>\n",
       "  </thead>\n",
       "  <tbody>\n",
       "    <tr>\n",
       "      <th>0</th>\n",
       "      <td>100</td>\n",
       "      <td>101</td>\n",
       "      <td>20</td>\n",
       "      <td>RL</td>\n",
       "      <td>NaN</td>\n",
       "      <td>10603</td>\n",
       "      <td>Pave</td>\n",
       "      <td>NaN</td>\n",
       "      <td>IR1</td>\n",
       "      <td>Lvl</td>\n",
       "      <td>...</td>\n",
       "      <td>0</td>\n",
       "      <td>NaN</td>\n",
       "      <td>NaN</td>\n",
       "      <td>NaN</td>\n",
       "      <td>0</td>\n",
       "      <td>2</td>\n",
       "      <td>2010</td>\n",
       "      <td>WD</td>\n",
       "      <td>Normal</td>\n",
       "      <td>205000</td>\n",
       "    </tr>\n",
       "    <tr>\n",
       "      <th>1</th>\n",
       "      <td>101</td>\n",
       "      <td>102</td>\n",
       "      <td>60</td>\n",
       "      <td>RL</td>\n",
       "      <td>77.0</td>\n",
       "      <td>9206</td>\n",
       "      <td>Pave</td>\n",
       "      <td>NaN</td>\n",
       "      <td>Reg</td>\n",
       "      <td>Lvl</td>\n",
       "      <td>...</td>\n",
       "      <td>0</td>\n",
       "      <td>NaN</td>\n",
       "      <td>NaN</td>\n",
       "      <td>NaN</td>\n",
       "      <td>0</td>\n",
       "      <td>6</td>\n",
       "      <td>2010</td>\n",
       "      <td>WD</td>\n",
       "      <td>Normal</td>\n",
       "      <td>178000</td>\n",
       "    </tr>\n",
       "    <tr>\n",
       "      <th>2</th>\n",
       "      <td>102</td>\n",
       "      <td>103</td>\n",
       "      <td>90</td>\n",
       "      <td>RL</td>\n",
       "      <td>64.0</td>\n",
       "      <td>7018</td>\n",
       "      <td>Pave</td>\n",
       "      <td>NaN</td>\n",
       "      <td>Reg</td>\n",
       "      <td>Bnk</td>\n",
       "      <td>...</td>\n",
       "      <td>0</td>\n",
       "      <td>NaN</td>\n",
       "      <td>NaN</td>\n",
       "      <td>NaN</td>\n",
       "      <td>0</td>\n",
       "      <td>6</td>\n",
       "      <td>2009</td>\n",
       "      <td>WD</td>\n",
       "      <td>Alloca</td>\n",
       "      <td>118964</td>\n",
       "    </tr>\n",
       "    <tr>\n",
       "      <th>3</th>\n",
       "      <td>103</td>\n",
       "      <td>104</td>\n",
       "      <td>20</td>\n",
       "      <td>RL</td>\n",
       "      <td>94.0</td>\n",
       "      <td>10402</td>\n",
       "      <td>Pave</td>\n",
       "      <td>NaN</td>\n",
       "      <td>IR1</td>\n",
       "      <td>Lvl</td>\n",
       "      <td>...</td>\n",
       "      <td>0</td>\n",
       "      <td>NaN</td>\n",
       "      <td>NaN</td>\n",
       "      <td>NaN</td>\n",
       "      <td>0</td>\n",
       "      <td>5</td>\n",
       "      <td>2010</td>\n",
       "      <td>WD</td>\n",
       "      <td>Normal</td>\n",
       "      <td>198900</td>\n",
       "    </tr>\n",
       "    <tr>\n",
       "      <th>4</th>\n",
       "      <td>104</td>\n",
       "      <td>105</td>\n",
       "      <td>50</td>\n",
       "      <td>RM</td>\n",
       "      <td>NaN</td>\n",
       "      <td>7758</td>\n",
       "      <td>Pave</td>\n",
       "      <td>NaN</td>\n",
       "      <td>Reg</td>\n",
       "      <td>Lvl</td>\n",
       "      <td>...</td>\n",
       "      <td>0</td>\n",
       "      <td>NaN</td>\n",
       "      <td>NaN</td>\n",
       "      <td>NaN</td>\n",
       "      <td>0</td>\n",
       "      <td>6</td>\n",
       "      <td>2007</td>\n",
       "      <td>WD</td>\n",
       "      <td>Normal</td>\n",
       "      <td>169500</td>\n",
       "    </tr>\n",
       "  </tbody>\n",
       "</table>\n",
       "<p>5 rows × 82 columns</p>\n",
       "</div>"
      ],
      "text/plain": [
       "   Unnamed: 0   Id  MSSubClass MSZoning  LotFrontage  LotArea Street Alley  \\\n",
       "0         100  101          20       RL          NaN    10603   Pave   NaN   \n",
       "1         101  102          60       RL         77.0     9206   Pave   NaN   \n",
       "2         102  103          90       RL         64.0     7018   Pave   NaN   \n",
       "3         103  104          20       RL         94.0    10402   Pave   NaN   \n",
       "4         104  105          50       RM          NaN     7758   Pave   NaN   \n",
       "\n",
       "  LotShape LandContour  ... PoolArea PoolQC Fence MiscFeature MiscVal MoSold  \\\n",
       "0      IR1         Lvl  ...        0    NaN   NaN         NaN       0      2   \n",
       "1      Reg         Lvl  ...        0    NaN   NaN         NaN       0      6   \n",
       "2      Reg         Bnk  ...        0    NaN   NaN         NaN       0      6   \n",
       "3      IR1         Lvl  ...        0    NaN   NaN         NaN       0      5   \n",
       "4      Reg         Lvl  ...        0    NaN   NaN         NaN       0      6   \n",
       "\n",
       "  YrSold SaleType  SaleCondition  SalePrice  \n",
       "0   2010       WD         Normal     205000  \n",
       "1   2010       WD         Normal     178000  \n",
       "2   2009       WD         Alloca     118964  \n",
       "3   2010       WD         Normal     198900  \n",
       "4   2007       WD         Normal     169500  \n",
       "\n",
       "[5 rows x 82 columns]"
      ]
     },
     "execution_count": 40,
     "metadata": {},
     "output_type": "execute_result"
    }
   ],
   "source": [
    "test = pd.read_csv('jtest.csv')\n",
    "test.head()"
   ]
  },
  {
   "cell_type": "code",
   "execution_count": null,
   "metadata": {},
   "outputs": [],
   "source": [
    "X = test[cols]\n",
    "Y = X['SalePrice']\n",
    "X = X.drop(['SalePrice', 'GarageYrBlt'], axis=1)\n"
   ]
  },
  {
   "cell_type": "code",
   "execution_count": null,
   "metadata": {},
   "outputs": [
    {
     "name": "stdout",
     "output_type": "stream",
     "text": [
      "R-Squared is: 0.7552304204494396\n"
     ]
    }
   ],
   "source": [
    "predictions = model.predict(X)\n",
    "print(f'R-Squared is: {model.score(X,Y)}')"
   ]
  },
  {
   "cell_type": "markdown",
   "metadata": {},
   "source": [
    "As we can see, the chosen model obtained an r-squared of approximately 88% when training it with the known data. For unknown data, the r-squared was approximately 75%, which indicates that the chosen model is good for predicting the sale price."
   ]
  },
  {
   "cell_type": "markdown",
   "metadata": {},
   "source": [
    "[Back to top](#Index)\n",
    "\n",
    "## Conclusion\n",
    "\n",
    "According to the analyses, we can observe that the greater the number of numerical dependent variables selected, the greater the R-squared of the model and it is also observed for the test. However, it is important to prepare the data, as noted it was not possible to calculate the test when there were NaN values for GarageYrBlt and therefore this variable was removed from the analyses.\n",
    "The r-squared factor of the model is extremely important to verify if the model is good, but it is not the only one that we must analyze, it is also important to test our model with new data and analyze which r-squared is. The model will be better the larger the r-squared for both cases. \n",
    "It is important to emphasize that correlation does not imply causality, that is, the dependent variable can explain the independent variable, but the opposite is not valid. Additionally, a single dependent variable may not be the only factor that explains the independent variable, there may be other variables."
   ]
  },
  {
   "cell_type": "markdown",
   "metadata": {},
   "source": [
    "\n",
    "[Back to top](#Index\n",
    ")\n",
    "## References\n",
    "\n",
    "- Mendes, Daniel. “Data Science Academy.” Machine Learning. Brazil, 2022. https://www.datascienceacademy.com.br/course/machine-learning-engineer.\n",
    "\n",
    "- Hunter, John; Dale, Darren; Firing, Eric; Droettboom, Michael \"Matplotlib 3.5.1 documentation\", Matplotlib. https://matplotlib.org/stable/index.html\n",
    "\n"
   ]
  }
 ],
 "metadata": {
  "kernelspec": {
   "display_name": "Python 3 (ipykernel)",
   "language": "python",
   "name": "python3"
  },
  "language_info": {
   "codemirror_mode": {
    "name": "ipython",
    "version": 3
   },
   "file_extension": ".py",
   "mimetype": "text/x-python",
   "name": "python",
   "nbconvert_exporter": "python",
   "pygments_lexer": "ipython3",
   "version": "3.9.7"
  }
 },
 "nbformat": 4,
 "nbformat_minor": 4
}
